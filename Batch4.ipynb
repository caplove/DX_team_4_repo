{
  "nbformat": 4,
  "nbformat_minor": 0,
  "metadata": {
    "colab": {
      "name": "Team_4_Augment_DNN.ipynb",
      "provenance": [],
      "collapsed_sections": [],
      "toc_visible": true,
      "authorship_tag": "ABX9TyPVJ8eSGuF5AirpERCvJCly",
      "include_colab_link": true
    },
    "kernelspec": {
      "name": "python3",
      "display_name": "Python 3"
    },
    "language_info": {
      "name": "python"
    }
  },
  "cells": [
    {
      "cell_type": "markdown",
      "metadata": {
        "id": "view-in-github",
        "colab_type": "text"
      },
      "source": [
        "<a href=\"https://colab.research.google.com/github/caplove/DX_team_4_repo/blob/main/Batch4.ipynb\" target=\"_parent\"><img src=\"https://colab.research.google.com/assets/colab-badge.svg\" alt=\"Open In Colab\"/></a>"
      ]
    },
    {
      "cell_type": "markdown",
      "source": [
        "# **데이터 가져오기**\n",
        "\n",
        "---\n",
        "\n"
      ],
      "metadata": {
        "id": "DXB7PuicS0T8"
      }
    },
    {
      "cell_type": "code",
      "execution_count": 1,
      "metadata": {
        "colab": {
          "base_uri": "https://localhost:8080/"
        },
        "id": "pJNR6u8vNIvk",
        "outputId": "7bdee2bb-d79e-4c85-f0ae-5672e6e9cbd5"
      },
      "outputs": [
        {
          "output_type": "stream",
          "name": "stdout",
          "text": [
            "Cloning into 'DX_team_4_repo'...\n",
            "remote: Enumerating objects: 362, done.\u001b[K\n",
            "remote: Counting objects: 100% (362/362), done.\u001b[K\n",
            "remote: Compressing objects: 100% (342/342), done.\u001b[K\n",
            "remote: Total 362 (delta 185), reused 0 (delta 0), pack-reused 0\u001b[K\n",
            "Receiving objects: 100% (362/362), 12.52 MiB | 5.10 MiB/s, done.\n",
            "Resolving deltas: 100% (185/185), done.\n"
          ]
        }
      ],
      "source": [
        "!git clone https://github.com/caplove/DX_team_4_repo.git"
      ]
    },
    {
      "cell_type": "code",
      "source": [
        "#과제 설명\n",
        "from IPython.display import Image\n",
        "#Image('./image/image_01.png',width=800,height=600)"
      ],
      "metadata": {
        "id": "9IE4jxqENQ5M"
      },
      "execution_count": 2,
      "outputs": []
    },
    {
      "cell_type": "code",
      "source": [
        "import sys\n",
        "sys.path.append('/content/DX_team_4_repo')"
      ],
      "metadata": {
        "id": "rrzZKo6N3XJR"
      },
      "execution_count": 3,
      "outputs": []
    },
    {
      "cell_type": "markdown",
      "source": [
        "# 모듈과 함수 불러오기\n",
        ">> - 훈련 / 검증 데이터 : Data\n",
        ">> - 테스트 데이터 : Data_test"
      ],
      "metadata": {
        "id": "90VDfWqrng5H"
      }
    },
    {
      "cell_type": "code",
      "source": [
        "\"\"\"함수 불러오기 \"\"\"\n",
        "from augment_import2 import augment2\n",
        "from extractor_import import extractor\n",
        "#from models_import import my_models\n",
        "from models_import2 import my_models\n",
        "\n",
        "from data_import import import_data_from_folder\n",
        "import pandas as pd\n",
        "\n",
        "\"\"\"시계열 데이터 import\"\"\"\n",
        "\n",
        "FOLDER_NAME = \"/DX_team_4_repo/Data\"\n",
        "x,y = import_data_from_folder(FOLDER_NAME)\n",
        "print(x.shape,y.shape)\n",
        "\n",
        "TEST_FOLDER_NAME = \"/DX_team_4_repo/Data_test\"\n",
        "test_x,test_y = import_data_from_folder(TEST_FOLDER_NAME)\n",
        "print(test_x.shape,test_y.shape)\n",
        "\n",
        "\"\"\" 비어있는 데이터프레임 만들기\"\"\"\n",
        "features_all = pd.DataFrame()\n",
        "# jittering / MagWarp / Scaling / Combination\n",
        "x_in_jittering = pd.DataFrame()\n",
        "x_in_MagWarp = pd.DataFrame()\n",
        "x_in_Scaling = pd.DataFrame()\n",
        "x_in_Combination = pd.DataFrame()\n"
      ],
      "metadata": {
        "id": "i3fUTgCGiHs0",
        "outputId": "61c27c02-a7c5-41d0-f9a0-be623d7de45b",
        "colab": {
          "base_uri": "https://localhost:8080/",
          "height": 663
        }
      },
      "execution_count": 4,
      "outputs": [
        {
          "output_type": "stream",
          "name": "stdout",
          "text": [
            ".//DX_team_4_repo/Data//coat_4.txt\n",
            ".//DX_team_4_repo/Data//coat_5.txt\n",
            ".//DX_team_4_repo/Data//shirt_2.txt\n",
            ".//DX_team_4_repo/Data//suit_1.txt\n",
            ".//DX_team_4_repo/Data//coat_2.txt\n",
            ".//DX_team_4_repo/Data//suit_3.txt\n",
            ".//DX_team_4_repo/Data//shirt_3.txt\n",
            ".//DX_team_4_repo/Data//shirt_1.txt\n",
            ".//DX_team_4_repo/Data//suit_5.txt\n",
            ".//DX_team_4_repo/Data//suit_4.txt\n",
            ".//DX_team_4_repo/Data//suit_2.txt\n",
            ".//DX_team_4_repo/Data//shirt_4.txt\n",
            ".//DX_team_4_repo/Data//shirt_5.txt\n",
            ".//DX_team_4_repo/Data//coat_3.txt\n",
            ".//DX_team_4_repo/Data//coat_1.txt\n",
            ".//DX_team_4_repo/Data//idle.txt\n",
            "(274582, 7) (274582,)\n",
            ".//DX_team_4_repo/Data_test/suit_1/suit_1.txt\n",
            ".//DX_team_4_repo/Data_test/suit_2/suit_2.txt\n",
            ".//DX_team_4_repo/Data_test/coat_1/coat_1.txt\n",
            ".//DX_team_4_repo/Data_test/shirt_2/shirt_2.txt\n",
            ".//DX_team_4_repo/Data_test/coat_3/coat_3.txt\n",
            ".//DX_team_4_repo/Data_test/shirt_1/shirt_1.txt\n",
            ".//DX_team_4_repo/Data_test/shirt_4/shirt_4.txt\n",
            ".//DX_team_4_repo/Data_test/suit_5/suit_5.txt\n",
            ".//DX_team_4_repo/Data_test/coat_5/coat_5.txt\n",
            ".//DX_team_4_repo/Data_test/shirt_5/shirt_5.txt\n",
            ".//DX_team_4_repo/Data_test/coat_4/coat_4.txt\n",
            ".//DX_team_4_repo/Data_test/idle/idle.txt\n",
            ".//DX_team_4_repo/Data_test/shirt_3/shirt_3.txt\n",
            ".//DX_team_4_repo/Data_test/suit_3/suit_3.txt\n",
            ".//DX_team_4_repo/Data_test/suit_4/suit_4.txt\n",
            ".//DX_team_4_repo/Data_test/coat_2/coat_2.txt\n",
            "(85969, 7) (85969,)\n"
          ]
        },
        {
          "output_type": "execute_result",
          "data": {
            "application/vnd.google.colaboratory.intrinsic+json": {
              "type": "string"
            },
            "text/plain": [
              "'전역변수'"
            ]
          },
          "metadata": {},
          "execution_count": 4
        }
      ]
    },
    {
      "cell_type": "markdown",
      "source": [
        ""
      ],
      "metadata": {
        "id": "3JPG0S-hX9bO"
      }
    },
    {
      "cell_type": "code",
      "source": [
        "\"\"\"Augmentation param 설정\"\"\"\n",
        "# jitter_para_list = [0.01, 0.05, 0.1]  # sigma\n",
        "# MW_para_list =     [0.01, 0.05, 0.1]  # sigma\n",
        "# Scale_para_list =  [0.01, 0.05, 0.1]\n",
        "\n",
        "jitter_para_list = [0.01,0.1]  # sigma\n",
        "MW_para_list =     [0.01,0.1]  # sigma\n",
        "Scale_para_list =  [0.01,0.1]\n",
        "\n",
        "\"\"\"\"\"\"\n",
        "# Data_test폴더의 데이터 사용여부\n",
        "external_test_data_use=1  # 별도의 test data 사용여부\n",
        "\n",
        "# 그래프/결과값 보이기\n",
        "log_en = 0   # 0 : 결과만 보임,  1 : 중간 과정 보임.\n",
        "\n",
        "# 빈 Accuracy.xls 만들기\n",
        "df = pd.DataFrame(columns=['jit','MW','Scale','DNN','MLP','DTree','KNN','AdaBoost','RandomForest'])"
      ],
      "metadata": {
        "id": "Cly8jbB8YDav"
      },
      "execution_count": null,
      "outputs": []
    },
    {
      "cell_type": "markdown",
      "source": [
        "# Augment / 모델별 Accuracy\n",
        ">> - Augment Params : jitter, MagWarp, Scale 의 sigma값 "
      ],
      "metadata": {
        "id": "C063g4mEYoHx"
      }
    },
    {
      "cell_type": "code",
      "source": [
        "# i,j,k는 각각 jitter, MagWarp, Scale의 sigma 값\n",
        "\n",
        "\n",
        "for i in jitter_para_list:\n",
        "    for j in MW_para_list:\n",
        "        for k in Scale_para_list:\n",
        "            \n",
        "            print(f\"jitter_sigma:{i},   MW_sigma:{j},   Scale_sigma:{k}\")\n",
        "            # augmentation 방법별로 원본 x와 동일 size의 데이터 생성\n",
        "            x_in_jittering, x_in_MagWarp, x_in_Scaling, x_in_Combination = augment2(x,y,i,j,k,log_en)\n",
        "            #print(x.shape, x_in_jittering.shape, x_in_MagWarp.shape, x_in_Scaling.shape, x_in_Combination.shape, y.shape)\n",
        "            print(\"status: 데이터 증강 완료\")\n",
        "\n",
        "            # 증강 데이터 선정\n",
        "            # dataset_list = [x]                                                               # default 데이터\n",
        "            dataset_list = [x,x_in_jittering, x_in_MagWarp,x_in_Scaling, x_in_Combination]   # 증강    데이터\n",
        "            \n",
        "            # 원본 포함 증강된 데이터의 특징 추출하고 merge            \n",
        "            features_all = extractor(x,y,dataset_list,log_en)\n",
        "\n",
        "            \n",
        "            # 테스트 데이터 선정\n",
        "            dataset_list = [test_x]\n",
        "            #           테스트 데이터의 특징 추출하고 merge \n",
        "            features_test = extractor(test_x,test_y,dataset_list,log_en)\n",
        "            print(\"status: Features 추출 완료\")\n",
        "            \n",
        "            # 특징 데이터 기반 모든 모델에 대한 훈련 및 평가\n",
        "            # Acc_DNN,Acc_MLP,Acc_TREE,Acc_KNN,Acc_Ensemble, Acc_RForest = my_models(features_all,log_en)\n",
        "            Acc_DNN,Acc_MLP,Acc_TREE,Acc_KNN,Acc_Ensemble, Acc_RForest = my_models(features_all,log_en,external_test_data_use,features_test)   # 별도 test 폴더 적용시 1\n",
        "            print(\"status: 모형 훈련/평가 완료\")\n",
        "\n",
        "            \n",
        "            \n",
        "            \n",
        "            print(f\"DNN: {Acc_DNN:.3f}, MLP:{Acc_MLP:.3f}, DTree:{Acc_TREE:.3f}, KNN:{Acc_KNN:.3f}, AdaBoost: {Acc_Ensemble:.3f}, RandomForest: {Acc_RForest:.3f}\")\n",
        "            print(\"----\" * 30)\n",
        "\n",
        "            # parameter별 Accuracy 데이터 저장\n",
        "            df=df.append({'jit':i,'MW':j,'Scale':k,'DNN':Acc_DNN,'MLP':Acc_MLP,'DTree':Acc_TREE,'KNN':Acc_KNN,'AdaBoost':Acc_Ensemble,'RandomForest':Acc_RForest},ignore_index=True)\n",
        "\n",
        "print(df) \n",
        "\n",
        "\n",
        "# default\n",
        "# DNN: 0.940, MLP:0.902, DTree:0.759, KNN:0.940, AdaBoost: 0.714, RandomForest: 0.872  (internal test data)\n",
        "# DNN: 0.521, MLP:0.490, DTree:0.510, KNN:0.578, AdaBoost: 0.260, RandomForest: 0.729  (external test data)"
      ],
      "metadata": {
        "id": "SgKltUjl325u",
        "outputId": "ddc50bbd-3303-4307-8f87-48f34fcfc7cd",
        "colab": {
          "base_uri": "https://localhost:8080/"
        }
      },
      "execution_count": null,
      "outputs": [
        {
          "output_type": "stream",
          "name": "stdout",
          "text": [
            "jitter_sigma:0.01,   MW_sigma:0.01,   Scale_sigma:0.01\n",
            "status: 데이터 증강 완료\n",
            "status: Features 추출 완료\n",
            "status: 모형 훈련/평가 완료\n",
            "DNN: 0.609, MLP:0.573, DTree:0.516, KNN:0.609, AdaBoost: 0.333, RandomForest: 0.635\n",
            "------------------------------------------------------------------------------------------------------------------------\n",
            "jitter_sigma:0.01,   MW_sigma:0.01,   Scale_sigma:0.1\n",
            "status: 데이터 증강 완료\n",
            "status: Features 추출 완료\n",
            "status: 모형 훈련/평가 완료\n",
            "DNN: 0.536, MLP:0.578, DTree:0.620, KNN:0.609, AdaBoost: 0.193, RandomForest: 0.688\n",
            "------------------------------------------------------------------------------------------------------------------------\n",
            "jitter_sigma:0.01,   MW_sigma:0.1,   Scale_sigma:0.01\n",
            "status: 데이터 증강 완료\n",
            "status: Features 추출 완료\n",
            "status: 모형 훈련/평가 완료\n",
            "DNN: 0.646, MLP:0.573, DTree:0.573, KNN:0.609, AdaBoost: 0.182, RandomForest: 0.620\n",
            "------------------------------------------------------------------------------------------------------------------------\n",
            "jitter_sigma:0.01,   MW_sigma:0.1,   Scale_sigma:0.1\n",
            "status: 데이터 증강 완료\n"
          ]
        }
      ]
    },
    {
      "cell_type": "markdown",
      "source": [
        "## 데이터 저장\n",
        ">> - accuracy.csv에 param/model별 결과 저장"
      ],
      "metadata": {
        "id": "gkwwC34hZYN2"
      }
    },
    {
      "cell_type": "code",
      "source": [
        "\"\"\" 실험데이터 저장\"\"\"\n",
        "df.to_csv(\"accuracy.csv\", mode='a', header=True)"
      ],
      "metadata": {
        "id": "l6h9Qrx7zhKI"
      },
      "execution_count": null,
      "outputs": []
    },
    {
      "cell_type": "code",
      "source": [
        "\"\"\"시각화\"\"\"\n",
        "import matplotlib.pyplot as plt\n",
        "import matplotlib\n",
        "plt.style.use('seaborn-whitegrid')\n",
        "import seaborn as sns\n",
        "#sns.set_style(\"white\")\n",
        "import itertools\n",
        "# %matplotlib inline\n",
        "import pandas as pd\n",
        "\n",
        "\"\"\" 실험데이터 불러오기\"\"\"\n",
        "# df = pd.read_csv(\"./accuracy-org.csv\",index_col=0)\n",
        "df = pd.read_csv(\"./accuracy.csv\",index_col=0)\n",
        "\n",
        "df['avg_accuracy']=df.iloc[:,3:-1].mean(axis=1)   \n",
        "\n",
        "# no augment 성능\n",
        "# DNN: 0.940, MLP:0.902, DTree:0.759, KNN:0.940, AdaBoost: 0.714, RandomForest: 0.872"
      ],
      "metadata": {
        "id": "aDvqMrwkW_lC"
      },
      "execution_count": null,
      "outputs": []
    },
    {
      "cell_type": "markdown",
      "source": [
        "## 분석"
      ],
      "metadata": {
        "id": "VXSxP6hRaBr6"
      }
    },
    {
      "cell_type": "code",
      "source": [
        "\"\"\"분석\"\"\"\n",
        "\n",
        "#graph_list = [0.01, 0.05, 0.1]   # df.jit에 따른 Accuracy 비교\n",
        "graph_list = [0.01, 0.1]   # df.jit에 따른 Accuracy 비교\n",
        "plt.figure(figsize=(10,5))\n",
        "plt.title('models\\' average accuracy')\n",
        "\n",
        "for graph_list_item in graph_list:\n",
        "    \n",
        "    idx = df.jit == graph_list_item\n",
        "    plt.plot(df.avg_accuracy[idx],label=f'augment(jitter_sigma={graph_list_item},MW,Scale)')\n",
        "    \n",
        "#plt.axhline(y=0.854, color='r',linestyle = 'dashed',label='no augment')\n",
        "plt.axhline(y=0.514, color='r',linestyle = 'dashed',label='no augment')\n",
        "plt.ylim([0.3, 1])\n",
        "plt.legend(loc='lower left')"
      ],
      "metadata": {
        "id": "ofSrjsIfyv3H"
      },
      "execution_count": null,
      "outputs": []
    },
    {
      "cell_type": "code",
      "source": [
        ""
      ],
      "metadata": {
        "id": "kTQ8sc_tF-lJ"
      },
      "execution_count": null,
      "outputs": []
    }
  ]
}