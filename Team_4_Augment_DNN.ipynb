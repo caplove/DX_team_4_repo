{
  "nbformat": 4,
  "nbformat_minor": 0,
  "metadata": {
    "colab": {
      "name": "Team_4_Augment_DNN.ipynb",
      "provenance": [],
      "collapsed_sections": [],
      "authorship_tag": "ABX9TyOcFTxlPPQ/C+LWy6OhUwCv",
      "include_colab_link": true
    },
    "kernelspec": {
      "name": "python3",
      "display_name": "Python 3"
    },
    "language_info": {
      "name": "python"
    }
  },
  "cells": [
    {
      "cell_type": "markdown",
      "metadata": {
        "id": "view-in-github",
        "colab_type": "text"
      },
      "source": [
        "<a href=\"https://colab.research.google.com/github/caplove/DX_team_4_repo/blob/main/Team_4_Augment_DNN.ipynb\" target=\"_parent\"><img src=\"https://colab.research.google.com/assets/colab-badge.svg\" alt=\"Open In Colab\"/></a>"
      ]
    },
    {
      "cell_type": "markdown",
      "source": [
        "데이터가져오기"
      ],
      "metadata": {
        "id": "DXB7PuicS0T8"
      }
    },
    {
      "cell_type": "code",
      "execution_count": 1,
      "metadata": {
        "colab": {
          "base_uri": "https://localhost:8080/"
        },
        "id": "pJNR6u8vNIvk",
        "outputId": "d730aa28-8090-4b5b-c3dc-e754eb7bd67d"
      },
      "outputs": [
        {
          "output_type": "stream",
          "name": "stdout",
          "text": [
            "Cloning into 'DX_team_4_repo'...\n",
            "remote: Enumerating objects: 94, done.\u001b[K\n",
            "remote: Counting objects: 100% (94/94), done.\u001b[K\n",
            "remote: Compressing objects: 100% (93/93), done.\u001b[K\n",
            "remote: Total 94 (delta 35), reused 0 (delta 0), pack-reused 0\u001b[K\n",
            "Unpacking objects: 100% (94/94), done.\n"
          ]
        }
      ],
      "source": [
        "!git clone https://github.com/caplove/DX_team_4_repo.git"
      ]
    },
    {
      "cell_type": "code",
      "source": [
        "#과제 설명\n",
        "from IPython.display import Image\n",
        "#Image('./image/image_01.png',width=800,height=600)"
      ],
      "metadata": {
        "id": "9IE4jxqENQ5M"
      },
      "execution_count": 2,
      "outputs": []
    },
    {
      "cell_type": "code",
      "source": [
        "#Image('./image/image_02.jpg',width=800,height=700)"
      ],
      "metadata": {
        "id": "NRmcDVGUSaDz"
      },
      "execution_count": 3,
      "outputs": []
    },
    {
      "cell_type": "code",
      "source": [
        "#Image('./image/image_03.jpg',width=800,height=700)"
      ],
      "metadata": {
        "id": "BjwupqmHU0-v"
      },
      "execution_count": 4,
      "outputs": []
    },
    {
      "cell_type": "code",
      "source": [
        "#Image('./image/image_05.jpg',width=800,height=700)"
      ],
      "metadata": {
        "id": "nQQEJNlhz4O8"
      },
      "execution_count": 5,
      "outputs": []
    },
    {
      "cell_type": "code",
      "source": [
        "\"\"\"입출력\"\"\"\n",
        "import os\n",
        "\n",
        "\"\"\"전처리\"\"\"\n",
        "import pandas as pd\n",
        "import numpy as np\n",
        "pd.set_option('display.max_columns', None)\n",
        "\n",
        "from sklearn.model_selection import train_test_split\n",
        "from sklearn.metrics import mean_squared_error, mean_absolute_error, r2_score\n",
        "\n",
        "\"\"\"시각화\"\"\"\n",
        "import matplotlib.pyplot as plt\n",
        "import matplotlib\n",
        "plt.style.use('seaborn-whitegrid')\n",
        "import seaborn as sns\n",
        "#sns.set_style(\"white\")\n",
        "import itertools\n",
        "%matplotlib inline\n",
        "\n",
        "import warnings\n",
        "warnings.filterwarnings(action='ignore') "
      ],
      "metadata": {
        "id": "CHostKH7WIZT"
      },
      "execution_count": 6,
      "outputs": []
    },
    {
      "cell_type": "code",
      "source": [
        "# 하위 폴더내에 각각 파일이 있고, 파일(폴더)명에 class 정보가 있을경우 \n",
        "# 참조 : https://wikidocs.net/39\n",
        "\n",
        "df=[]\n",
        "df = pd.DataFrame()\n",
        "\n",
        "\n",
        "for (path, dir, files) in os.walk(\"./DX_team_4_repo/Data/\"):\n",
        "                \n",
        "        for filename in files:\n",
        "             ext = os.path.splitext(filename)[-1]  # 확장자가 ext 이면...\n",
        "             if ext == '.txt':\n",
        "       \n",
        "                # 해당파일을 DataFrame으로 읽고 class 추가하기\n",
        "                print(path + '/' + filename)\n",
        "\n",
        "                data = pd.read_csv(path + '/'+filename,sep='[:, ,]',names=['ID','accx','accy','accz','gyrx','gyry','gyrz','current','NaN'],header=None,index_col=None)\n",
        "                data = data.drop(['ID','NaN'],axis=1)     # 다수의 sep는 [ A구분자,B구분자 ] 사용\n",
        "    \n",
        "                #Class 컬럼추가 (파일명에서    _앞에 문자열 추출\n",
        "                class_name = filename.split('.')[0]     \n",
        "                data.loc[:,'CLASS']=np.array([class_name]*len(data))    \n",
        "\n",
        "                #모든 Class 데이터 누적 합치기\n",
        "                df = pd.concat([df,data])"
      ],
      "metadata": {
        "id": "i3fUTgCGiHs0",
        "colab": {
          "base_uri": "https://localhost:8080/"
        },
        "outputId": "9df65fb5-4a6e-463c-958c-74e3ef74bcf0"
      },
      "execution_count": 11,
      "outputs": [
        {
          "output_type": "stream",
          "name": "stdout",
          "text": [
            "./DX_team_4_repo/Data//suit_4.txt\n",
            "./DX_team_4_repo/Data//suit_3.txt\n",
            "./DX_team_4_repo/Data//coat_1.txt\n",
            "./DX_team_4_repo/Data//suit_5.txt\n",
            "./DX_team_4_repo/Data//shirt_1.txt\n",
            "./DX_team_4_repo/Data//coat_4.txt\n",
            "./DX_team_4_repo/Data//suit_1.txt\n",
            "./DX_team_4_repo/Data//idle.txt\n",
            "./DX_team_4_repo/Data//coat_5.txt\n",
            "./DX_team_4_repo/Data//shirt_3.txt\n",
            "./DX_team_4_repo/Data//suit_2.txt\n",
            "./DX_team_4_repo/Data//coat_2.txt\n",
            "./DX_team_4_repo/Data//coat_3.txt\n",
            "./DX_team_4_repo/Data//shirt_2.txt\n",
            "./DX_team_4_repo/Data//shirt_5.txt\n",
            "./DX_team_4_repo/Data//shirt_4.txt\n"
          ]
        }
      ]
    },
    {
      "cell_type": "code",
      "source": [
        "df.head()"
      ],
      "metadata": {
        "colab": {
          "base_uri": "https://localhost:8080/",
          "height": 206
        },
        "id": "l6h9Qrx7zhKI",
        "outputId": "eeb2e264-03fa-43b9-84d8-6e01c5f86fe4"
      },
      "execution_count": 12,
      "outputs": [
        {
          "output_type": "execute_result",
          "data": {
            "text/html": [
              "\n",
              "  <div id=\"df-55511dc2-34e7-4b12-9aa9-b86a397ad21a\">\n",
              "    <div class=\"colab-df-container\">\n",
              "      <div>\n",
              "<style scoped>\n",
              "    .dataframe tbody tr th:only-of-type {\n",
              "        vertical-align: middle;\n",
              "    }\n",
              "\n",
              "    .dataframe tbody tr th {\n",
              "        vertical-align: top;\n",
              "    }\n",
              "\n",
              "    .dataframe thead th {\n",
              "        text-align: right;\n",
              "    }\n",
              "</style>\n",
              "<table border=\"1\" class=\"dataframe\">\n",
              "  <thead>\n",
              "    <tr style=\"text-align: right;\">\n",
              "      <th></th>\n",
              "      <th>accx</th>\n",
              "      <th>accy</th>\n",
              "      <th>accz</th>\n",
              "      <th>gyrx</th>\n",
              "      <th>gyry</th>\n",
              "      <th>gyrz</th>\n",
              "      <th>current</th>\n",
              "      <th>CLASS</th>\n",
              "    </tr>\n",
              "  </thead>\n",
              "  <tbody>\n",
              "    <tr>\n",
              "      <th>0</th>\n",
              "      <td>-0.00</td>\n",
              "      <td>0.03</td>\n",
              "      <td>0.95</td>\n",
              "      <td>1.59</td>\n",
              "      <td>0.85</td>\n",
              "      <td>-1.59</td>\n",
              "      <td>0.59</td>\n",
              "      <td>suit_4</td>\n",
              "    </tr>\n",
              "    <tr>\n",
              "      <th>1</th>\n",
              "      <td>0.01</td>\n",
              "      <td>0.02</td>\n",
              "      <td>1.03</td>\n",
              "      <td>0.37</td>\n",
              "      <td>1.04</td>\n",
              "      <td>-1.59</td>\n",
              "      <td>-0.19</td>\n",
              "      <td>suit_4</td>\n",
              "    </tr>\n",
              "    <tr>\n",
              "      <th>2</th>\n",
              "      <td>0.02</td>\n",
              "      <td>0.01</td>\n",
              "      <td>1.04</td>\n",
              "      <td>0.61</td>\n",
              "      <td>0.98</td>\n",
              "      <td>-1.71</td>\n",
              "      <td>-0.54</td>\n",
              "      <td>suit_4</td>\n",
              "    </tr>\n",
              "    <tr>\n",
              "      <th>3</th>\n",
              "      <td>0.02</td>\n",
              "      <td>-0.05</td>\n",
              "      <td>1.02</td>\n",
              "      <td>2.32</td>\n",
              "      <td>0.79</td>\n",
              "      <td>-1.95</td>\n",
              "      <td>-0.44</td>\n",
              "      <td>suit_4</td>\n",
              "    </tr>\n",
              "    <tr>\n",
              "      <th>4</th>\n",
              "      <td>0.01</td>\n",
              "      <td>-0.04</td>\n",
              "      <td>1.04</td>\n",
              "      <td>-1.34</td>\n",
              "      <td>1.28</td>\n",
              "      <td>-1.53</td>\n",
              "      <td>1.20</td>\n",
              "      <td>suit_4</td>\n",
              "    </tr>\n",
              "  </tbody>\n",
              "</table>\n",
              "</div>\n",
              "      <button class=\"colab-df-convert\" onclick=\"convertToInteractive('df-55511dc2-34e7-4b12-9aa9-b86a397ad21a')\"\n",
              "              title=\"Convert this dataframe to an interactive table.\"\n",
              "              style=\"display:none;\">\n",
              "        \n",
              "  <svg xmlns=\"http://www.w3.org/2000/svg\" height=\"24px\"viewBox=\"0 0 24 24\"\n",
              "       width=\"24px\">\n",
              "    <path d=\"M0 0h24v24H0V0z\" fill=\"none\"/>\n",
              "    <path d=\"M18.56 5.44l.94 2.06.94-2.06 2.06-.94-2.06-.94-.94-2.06-.94 2.06-2.06.94zm-11 1L8.5 8.5l.94-2.06 2.06-.94-2.06-.94L8.5 2.5l-.94 2.06-2.06.94zm10 10l.94 2.06.94-2.06 2.06-.94-2.06-.94-.94-2.06-.94 2.06-2.06.94z\"/><path d=\"M17.41 7.96l-1.37-1.37c-.4-.4-.92-.59-1.43-.59-.52 0-1.04.2-1.43.59L10.3 9.45l-7.72 7.72c-.78.78-.78 2.05 0 2.83L4 21.41c.39.39.9.59 1.41.59.51 0 1.02-.2 1.41-.59l7.78-7.78 2.81-2.81c.8-.78.8-2.07 0-2.86zM5.41 20L4 18.59l7.72-7.72 1.47 1.35L5.41 20z\"/>\n",
              "  </svg>\n",
              "      </button>\n",
              "      \n",
              "  <style>\n",
              "    .colab-df-container {\n",
              "      display:flex;\n",
              "      flex-wrap:wrap;\n",
              "      gap: 12px;\n",
              "    }\n",
              "\n",
              "    .colab-df-convert {\n",
              "      background-color: #E8F0FE;\n",
              "      border: none;\n",
              "      border-radius: 50%;\n",
              "      cursor: pointer;\n",
              "      display: none;\n",
              "      fill: #1967D2;\n",
              "      height: 32px;\n",
              "      padding: 0 0 0 0;\n",
              "      width: 32px;\n",
              "    }\n",
              "\n",
              "    .colab-df-convert:hover {\n",
              "      background-color: #E2EBFA;\n",
              "      box-shadow: 0px 1px 2px rgba(60, 64, 67, 0.3), 0px 1px 3px 1px rgba(60, 64, 67, 0.15);\n",
              "      fill: #174EA6;\n",
              "    }\n",
              "\n",
              "    [theme=dark] .colab-df-convert {\n",
              "      background-color: #3B4455;\n",
              "      fill: #D2E3FC;\n",
              "    }\n",
              "\n",
              "    [theme=dark] .colab-df-convert:hover {\n",
              "      background-color: #434B5C;\n",
              "      box-shadow: 0px 1px 3px 1px rgba(0, 0, 0, 0.15);\n",
              "      filter: drop-shadow(0px 1px 2px rgba(0, 0, 0, 0.3));\n",
              "      fill: #FFFFFF;\n",
              "    }\n",
              "  </style>\n",
              "\n",
              "      <script>\n",
              "        const buttonEl =\n",
              "          document.querySelector('#df-55511dc2-34e7-4b12-9aa9-b86a397ad21a button.colab-df-convert');\n",
              "        buttonEl.style.display =\n",
              "          google.colab.kernel.accessAllowed ? 'block' : 'none';\n",
              "\n",
              "        async function convertToInteractive(key) {\n",
              "          const element = document.querySelector('#df-55511dc2-34e7-4b12-9aa9-b86a397ad21a');\n",
              "          const dataTable =\n",
              "            await google.colab.kernel.invokeFunction('convertToInteractive',\n",
              "                                                     [key], {});\n",
              "          if (!dataTable) return;\n",
              "\n",
              "          const docLinkHtml = 'Like what you see? Visit the ' +\n",
              "            '<a target=\"_blank\" href=https://colab.research.google.com/notebooks/data_table.ipynb>data table notebook</a>'\n",
              "            + ' to learn more about interactive tables.';\n",
              "          element.innerHTML = '';\n",
              "          dataTable['output_type'] = 'display_data';\n",
              "          await google.colab.output.renderOutput(dataTable, element);\n",
              "          const docLink = document.createElement('div');\n",
              "          docLink.innerHTML = docLinkHtml;\n",
              "          element.appendChild(docLink);\n",
              "        }\n",
              "      </script>\n",
              "    </div>\n",
              "  </div>\n",
              "  "
            ],
            "text/plain": [
              "   accx  accy  accz  gyrx  gyry  gyrz  current   CLASS\n",
              "0 -0.00  0.03  0.95  1.59  0.85 -1.59     0.59  suit_4\n",
              "1  0.01  0.02  1.03  0.37  1.04 -1.59    -0.19  suit_4\n",
              "2  0.02  0.01  1.04  0.61  0.98 -1.71    -0.54  suit_4\n",
              "3  0.02 -0.05  1.02  2.32  0.79 -1.95    -0.44  suit_4\n",
              "4  0.01 -0.04  1.04 -1.34  1.28 -1.53     1.20  suit_4"
            ]
          },
          "metadata": {},
          "execution_count": 12
        }
      ]
    },
    {
      "cell_type": "code",
      "source": [
        "df.tail()"
      ],
      "metadata": {
        "id": "aDvqMrwkW_lC",
        "colab": {
          "base_uri": "https://localhost:8080/",
          "height": 49
        },
        "outputId": "1dc7f313-3c00-4087-e576-288138a17f85"
      },
      "execution_count": 9,
      "outputs": [
        {
          "output_type": "execute_result",
          "data": {
            "text/html": [
              "\n",
              "  <div id=\"df-9390a19a-f925-4a15-a12d-55b7b1ddd791\">\n",
              "    <div class=\"colab-df-container\">\n",
              "      <div>\n",
              "<style scoped>\n",
              "    .dataframe tbody tr th:only-of-type {\n",
              "        vertical-align: middle;\n",
              "    }\n",
              "\n",
              "    .dataframe tbody tr th {\n",
              "        vertical-align: top;\n",
              "    }\n",
              "\n",
              "    .dataframe thead th {\n",
              "        text-align: right;\n",
              "    }\n",
              "</style>\n",
              "<table border=\"1\" class=\"dataframe\">\n",
              "  <thead>\n",
              "    <tr style=\"text-align: right;\">\n",
              "      <th></th>\n",
              "    </tr>\n",
              "  </thead>\n",
              "  <tbody>\n",
              "  </tbody>\n",
              "</table>\n",
              "</div>\n",
              "      <button class=\"colab-df-convert\" onclick=\"convertToInteractive('df-9390a19a-f925-4a15-a12d-55b7b1ddd791')\"\n",
              "              title=\"Convert this dataframe to an interactive table.\"\n",
              "              style=\"display:none;\">\n",
              "        \n",
              "  <svg xmlns=\"http://www.w3.org/2000/svg\" height=\"24px\"viewBox=\"0 0 24 24\"\n",
              "       width=\"24px\">\n",
              "    <path d=\"M0 0h24v24H0V0z\" fill=\"none\"/>\n",
              "    <path d=\"M18.56 5.44l.94 2.06.94-2.06 2.06-.94-2.06-.94-.94-2.06-.94 2.06-2.06.94zm-11 1L8.5 8.5l.94-2.06 2.06-.94-2.06-.94L8.5 2.5l-.94 2.06-2.06.94zm10 10l.94 2.06.94-2.06 2.06-.94-2.06-.94-.94-2.06-.94 2.06-2.06.94z\"/><path d=\"M17.41 7.96l-1.37-1.37c-.4-.4-.92-.59-1.43-.59-.52 0-1.04.2-1.43.59L10.3 9.45l-7.72 7.72c-.78.78-.78 2.05 0 2.83L4 21.41c.39.39.9.59 1.41.59.51 0 1.02-.2 1.41-.59l7.78-7.78 2.81-2.81c.8-.78.8-2.07 0-2.86zM5.41 20L4 18.59l7.72-7.72 1.47 1.35L5.41 20z\"/>\n",
              "  </svg>\n",
              "      </button>\n",
              "      \n",
              "  <style>\n",
              "    .colab-df-container {\n",
              "      display:flex;\n",
              "      flex-wrap:wrap;\n",
              "      gap: 12px;\n",
              "    }\n",
              "\n",
              "    .colab-df-convert {\n",
              "      background-color: #E8F0FE;\n",
              "      border: none;\n",
              "      border-radius: 50%;\n",
              "      cursor: pointer;\n",
              "      display: none;\n",
              "      fill: #1967D2;\n",
              "      height: 32px;\n",
              "      padding: 0 0 0 0;\n",
              "      width: 32px;\n",
              "    }\n",
              "\n",
              "    .colab-df-convert:hover {\n",
              "      background-color: #E2EBFA;\n",
              "      box-shadow: 0px 1px 2px rgba(60, 64, 67, 0.3), 0px 1px 3px 1px rgba(60, 64, 67, 0.15);\n",
              "      fill: #174EA6;\n",
              "    }\n",
              "\n",
              "    [theme=dark] .colab-df-convert {\n",
              "      background-color: #3B4455;\n",
              "      fill: #D2E3FC;\n",
              "    }\n",
              "\n",
              "    [theme=dark] .colab-df-convert:hover {\n",
              "      background-color: #434B5C;\n",
              "      box-shadow: 0px 1px 3px 1px rgba(0, 0, 0, 0.15);\n",
              "      filter: drop-shadow(0px 1px 2px rgba(0, 0, 0, 0.3));\n",
              "      fill: #FFFFFF;\n",
              "    }\n",
              "  </style>\n",
              "\n",
              "      <script>\n",
              "        const buttonEl =\n",
              "          document.querySelector('#df-9390a19a-f925-4a15-a12d-55b7b1ddd791 button.colab-df-convert');\n",
              "        buttonEl.style.display =\n",
              "          google.colab.kernel.accessAllowed ? 'block' : 'none';\n",
              "\n",
              "        async function convertToInteractive(key) {\n",
              "          const element = document.querySelector('#df-9390a19a-f925-4a15-a12d-55b7b1ddd791');\n",
              "          const dataTable =\n",
              "            await google.colab.kernel.invokeFunction('convertToInteractive',\n",
              "                                                     [key], {});\n",
              "          if (!dataTable) return;\n",
              "\n",
              "          const docLinkHtml = 'Like what you see? Visit the ' +\n",
              "            '<a target=\"_blank\" href=https://colab.research.google.com/notebooks/data_table.ipynb>data table notebook</a>'\n",
              "            + ' to learn more about interactive tables.';\n",
              "          element.innerHTML = '';\n",
              "          dataTable['output_type'] = 'display_data';\n",
              "          await google.colab.output.renderOutput(dataTable, element);\n",
              "          const docLink = document.createElement('div');\n",
              "          docLink.innerHTML = docLinkHtml;\n",
              "          element.appendChild(docLink);\n",
              "        }\n",
              "      </script>\n",
              "    </div>\n",
              "  </div>\n",
              "  "
            ],
            "text/plain": [
              "Empty DataFrame\n",
              "Columns: []\n",
              "Index: []"
            ]
          },
          "metadata": {},
          "execution_count": 9
        }
      ]
    },
    {
      "cell_type": "code",
      "source": [
        "df.describe()"
      ],
      "metadata": {
        "colab": {
          "base_uri": "https://localhost:8080/",
          "height": 299
        },
        "id": "ofSrjsIfyv3H",
        "outputId": "80bcebcf-c5b6-424b-faab-d3c5d99557dd"
      },
      "execution_count": 10,
      "outputs": [
        {
          "output_type": "error",
          "ename": "ValueError",
          "evalue": "ignored",
          "traceback": [
            "\u001b[0;31m---------------------------------------------------------------------------\u001b[0m",
            "\u001b[0;31mValueError\u001b[0m                                Traceback (most recent call last)",
            "\u001b[0;32m<ipython-input-10-ea8415b8a3ee>\u001b[0m in \u001b[0;36m<module>\u001b[0;34m()\u001b[0m\n\u001b[0;32m----> 1\u001b[0;31m \u001b[0mdf\u001b[0m\u001b[0;34m.\u001b[0m\u001b[0mdescribe\u001b[0m\u001b[0;34m(\u001b[0m\u001b[0;34m)\u001b[0m\u001b[0;34m\u001b[0m\u001b[0;34m\u001b[0m\u001b[0m\n\u001b[0m",
            "\u001b[0;32m/usr/local/lib/python3.7/dist-packages/pandas/core/generic.py\u001b[0m in \u001b[0;36mdescribe\u001b[0;34m(self, percentiles, include, exclude, datetime_is_numeric)\u001b[0m\n\u001b[1;32m   9978\u001b[0m         \"\"\"\n\u001b[1;32m   9979\u001b[0m         \u001b[0;32mif\u001b[0m \u001b[0mself\u001b[0m\u001b[0;34m.\u001b[0m\u001b[0mndim\u001b[0m \u001b[0;34m==\u001b[0m \u001b[0;36m2\u001b[0m \u001b[0;32mand\u001b[0m \u001b[0mself\u001b[0m\u001b[0;34m.\u001b[0m\u001b[0mcolumns\u001b[0m\u001b[0;34m.\u001b[0m\u001b[0msize\u001b[0m \u001b[0;34m==\u001b[0m \u001b[0;36m0\u001b[0m\u001b[0;34m:\u001b[0m\u001b[0;34m\u001b[0m\u001b[0;34m\u001b[0m\u001b[0m\n\u001b[0;32m-> 9980\u001b[0;31m             \u001b[0;32mraise\u001b[0m \u001b[0mValueError\u001b[0m\u001b[0;34m(\u001b[0m\u001b[0;34m\"Cannot describe a DataFrame without columns\"\u001b[0m\u001b[0;34m)\u001b[0m\u001b[0;34m\u001b[0m\u001b[0;34m\u001b[0m\u001b[0m\n\u001b[0m\u001b[1;32m   9981\u001b[0m \u001b[0;34m\u001b[0m\u001b[0m\n\u001b[1;32m   9982\u001b[0m         \u001b[0;32mif\u001b[0m \u001b[0mpercentiles\u001b[0m \u001b[0;32mis\u001b[0m \u001b[0;32mnot\u001b[0m \u001b[0;32mNone\u001b[0m\u001b[0;34m:\u001b[0m\u001b[0;34m\u001b[0m\u001b[0;34m\u001b[0m\u001b[0m\n",
            "\u001b[0;31mValueError\u001b[0m: Cannot describe a DataFrame without columns"
          ]
        }
      ]
    },
    {
      "cell_type": "code",
      "source": [
        "\"\"\" 설명 변수 및 반응변수 구분 \"\"\"\n",
        "x = df.drop(['CLASS'],axis=1)\n",
        "y = df['CLASS']"
      ],
      "metadata": {
        "id": "PUQeoWIrywD8"
      },
      "execution_count": null,
      "outputs": []
    },
    {
      "cell_type": "code",
      "source": [
        "\"\"\"분포 확인\"\"\"\n",
        "plt.figure(figsize=(12, 5))\n",
        "sns.countplot(y)           # 돗수분포\n",
        "plt.show()"
      ],
      "metadata": {
        "id": "bXv4jYIpywHd"
      },
      "execution_count": null,
      "outputs": []
    },
    {
      "cell_type": "code",
      "source": [
        "\"\"\"데이터 확인\"\"\"\n",
        "# 몇 개의 Class에 대하여, 맨 앞 1초간 데이터 관찰\n",
        "\n",
        "class_list=['coat_5','shirt_1','idle']\n",
        "sensor_list=['accx','accy','accz','gyrx','gyry','gyrz','current']\n",
        "data_length=200       # 2초  @ 10ms sampling\n",
        "\n",
        "plt.figure(figsize=(12,12))\n",
        "\n",
        "for i in class_list:\n",
        "    idx_class = df[df.CLASS == i]\n",
        "\n",
        "    for j in sensor_list:\n",
        "        idx_j = sensor_list.index(j)    # j의 위치를 찾아 subplot의 위치를 정함.\n",
        "        plt.subplot(7,1,idx_j+1)\n",
        "        plt.plot(idx_class[j][0:data_length],label=i,linewidth=1)\n",
        "        plt.ylabel(j)\n",
        "        plt.xticks(visible=False)\n",
        "    \n",
        "plt.xlabel('data')\n",
        "plt.legend(loc='upper right')\n",
        "plt.show()"
      ],
      "metadata": {
        "id": "QVZ_5CibywKI"
      },
      "execution_count": null,
      "outputs": []
    },
    {
      "cell_type": "code",
      "source": [
        "#Image('./image/image_06.jpg')"
      ],
      "metadata": {
        "id": "xrboaYkIywM-"
      },
      "execution_count": null,
      "outputs": []
    },
    {
      "cell_type": "code",
      "source": [
        "\"\"\"전처리 / 데이터 증강 (TBD)\"\"\"\n",
        "#Image('./image/image_08.jpg',width=800, height=400)\n",
        "# jittering, Scaling, Rotation,Permutation,Magnitude Warping,TimeWarp,Cropping ... "
      ],
      "metadata": {
        "id": "FD4AF3kcywPg"
      },
      "execution_count": null,
      "outputs": []
    },
    {
      "cell_type": "code",
      "source": [
        "\n",
        "from scipy.interpolate import CubicSpline      # for warping\n",
        "\n",
        "plt.figure(figsize=(12,4))\n",
        "plt.plot(x['accx'][-200:])\n",
        "plt.plot(x['accy'][-200:])\n",
        "plt.plot(x['accz'][-200:])\n",
        "plt.plot(x['current'][-200:])\n",
        "plt.title('Sample data')\n",
        "plt.legend(['accx','accy','accz','current'])"
      ],
      "metadata": {
        "id": "lEDFROtVn2nt"
      },
      "execution_count": null,
      "outputs": []
    },
    {
      "cell_type": "code",
      "source": [
        "\"\"\"jittering\"\"\"\n",
        "sigma = 0.005\n",
        "\n",
        "def DA_Jitter(X, sigma=0.05):\n",
        "    myNoise = np.random.normal(loc=0, scale=sigma, size=X.shape)\n",
        "    return X+myNoise\n",
        "\n",
        "\n",
        "#x_in=x.loc[:,'accx':'accz']    # array에서 slicing 은. \n",
        "#x_in=x.iloc[:,0:3]             # pd DataFrame에서 slicing은 .loc(인덱스기반) 또는 .iloc(위치기반) 써야함.\n",
        "#print(x.shape,x_in.shape)\n",
        "\n",
        "# x 전체 데이터에 jittering\n",
        "x_in_jittering = DA_Jitter(x,sigma)\n",
        "\n",
        "# x,y merge\n",
        "#x_in=pd.concat([x,x_in_jittering],axis=0)\n",
        "#y_in=pd.concat([y,y],axis=0)\n",
        "#print(x.shape,x_in.shape,y.shape,y_in.shape)\n",
        "\n",
        "# fig = plt.figure(figsize=(15,4))\n",
        "# for ii in range(8):\n",
        "#     ax = fig.add_subplot(2,4,ii+1)\n",
        "#     ax.plot(DA_Jitter(x_in,sigma))\n",
        "#     ax.set_xlim([0,100])\n",
        "#     ax.set_ylim([-5,5])\n"
      ],
      "metadata": {
        "id": "2Ob_EnvMn6Cm"
      },
      "execution_count": null,
      "outputs": []
    },
    {
      "cell_type": "code",
      "source": [
        "\"\"\"Magnitude Warping\"\"\"\n",
        "sigma = 0.2  # default 0.2  (standard deviation)\n",
        "knot = 4      # default 4   (should be integer)\n",
        "\n",
        "## This example using cubic splice is not the best approach to generate random curves. \n",
        "## You can use other aprroaches, e.g., Gaussian process regression, Bezier curve, etc.\n",
        "def GenerateRandomCurves(X, sigma=0.2, knot=4):\n",
        "    xx = (np.ones((X.shape[1],1))*(np.arange(0,X.shape[0], (X.shape[0]-1)/(knot+1)))).transpose()\n",
        "    yy = np.random.normal(loc=1.0, scale=sigma, size=(knot+2, X.shape[1]))\n",
        "    x_range = np.arange(X.shape[0])\n",
        "    cs_x = CubicSpline(xx[:,0], yy[:,0])\n",
        "    cs_y = CubicSpline(xx[:,1], yy[:,1])\n",
        "    cs_z = CubicSpline(xx[:,2], yy[:,2])\n",
        "    cs_a = CubicSpline(xx[:,3], yy[:,3])  # 추가\n",
        "    cs_b = CubicSpline(xx[:,4], yy[:,4])  # 추가\n",
        "    cs_c = CubicSpline(xx[:,5], yy[:,5])  # 추가\n",
        "    cs_i = CubicSpline(xx[:,6], yy[:,6])  # 추가\n",
        "    \n",
        "    #return np.array([cs_x(x_range),cs_y(x_range),cs_z(x_range)]).transpose()\n",
        "    return np.array([cs_x(x_range),cs_y(x_range),cs_z(x_range),cs_a(x_range),cs_b(x_range),cs_c(x_range),cs_i(x_range)]).transpose()\n",
        "\n",
        "\n",
        "\n",
        "## Random curves around 1.0\n",
        "fig = plt.figure(figsize=(15,4))\n",
        "for ii in range(8):\n",
        "    ax = fig.add_subplot(2,4,ii+1)\n",
        "#    ax.plot(GenerateRandomCurves(x.iloc[:,0:3], sigma))\n",
        "    ax.plot(GenerateRandomCurves(x, sigma))\n",
        "\n",
        "    plt.axis([0,3600,-0.5,2])\n",
        "\n",
        "def DA_MagWarp(X, sigma):\n",
        "    return X * GenerateRandomCurves(X, sigma)\n",
        "\n",
        "fig = plt.figure(figsize=(15,4))\n",
        "for ii in range(8):\n",
        "    ax = fig.add_subplot(2,4,ii+1)\n",
        "#    ax.plot(DA_MagWarp(x.iloc[:,0:3], sigma))\n",
        "    ax.plot(DA_MagWarp(x,sigma))\n",
        "\n",
        "    ax.set_xlim([0,400])\n",
        "    ax.set_ylim([-5,5])    \n",
        "    "
      ],
      "metadata": {
        "id": "FXohGvd_n57d"
      },
      "execution_count": null,
      "outputs": []
    },
    {
      "cell_type": "code",
      "source": [
        "# x 전체 데이터에 Magnitude Warp\n",
        "x_in_MagWarp = DA_MagWarp(x,sigma)\n"
      ],
      "metadata": {
        "id": "Ocuxv_RSn5zX"
      },
      "execution_count": null,
      "outputs": []
    },
    {
      "cell_type": "code",
      "source": [
        "#x,y merge\n",
        "# x=pd.concat([x,x_in_jittering,x_in_MagWarp],axis=0)\n",
        "# y=pd.concat([y,y,y],axis=0)\n",
        "#print(x.shape,x_in.shape,y.shape,y_in.shape)\n",
        "print(x.shape, x_in_jittering.shape, x_in_MagWarp.shape,y.shape)"
      ],
      "metadata": {
        "id": "utOsDqZan5o_"
      },
      "execution_count": null,
      "outputs": []
    },
    {
      "cell_type": "code",
      "source": [
        "\"\"\"전처리 / 특징 추출 \"\"\"\n",
        "\"\"\"MFCC\"\"\"\n",
        "Image('./image/image_09.jpg', width=400, height=100)   # https://blog.naver.com/PostView.nhn?isHttpsRedirect=true&blogId=sooftware&logNo=221661644808"
      ],
      "metadata": {
        "id": "PTpgvKh_oBnd"
      },
      "execution_count": null,
      "outputs": []
    },
    {
      "cell_type": "code",
      "source": [
        "\"\"\"Augmentation 포함 특징추출\"\"\"\n",
        "x_list=[x, x_in_jittering, x_in_MagWarp]\n",
        "\n",
        "#class_list=np.array(['coat_5','shirt_1'])\n",
        "class_list=np.array(['idle', 'suit_1','suit_2','suit_3','suit_4','suit_5','shirt_1','shirt_2','shirt_3',\n",
        "            'shirt_4','shirt_5','coat_1','coat_2','coat_3','coat_4','coat_5'])\n",
        "features_all=pd.DataFrame()\n",
        "\n",
        "for ii in x_list:\n",
        "# 각 class별로 n개씩 묶어서(chunk) -->  mfcc -->  merge 함.\n",
        "\n",
        "# chunk\n",
        "    for i in class_list:       # class별로 'idle', 'suit1', ....\n",
        "        idx_class = y == i\n",
        "        x_in, count = list_chunk(ii['accx'][idx_class],no_of_data)   # x 400ea\n",
        "        y_in, count = list_chunk(ii['accy'][idx_class],no_of_data)   # y 400ea\n",
        "        z_in, count = list_chunk(ii['accz'][idx_class],no_of_data)   # z 400ea\n",
        "        current_in, count = list_chunk(ii['current'][idx_class],no_of_data)   # current 400ea \n",
        "        class_in,count = list_chunk(y[idx_class],no_of_data)   # label\n",
        "        print(\"class:\", i, \"    chunk개수:\",count)  # class별 chunked 개수 확인\n",
        "    \n",
        "# mfcc & merge\n",
        "        for j in range(0,count-1):    # 클래스 내의 j번째 chunk\n",
        "            # mfcc\n",
        "            x_in_chunk = np.array(x_in[j])\n",
        "            y_in_chunk = np.array(y_in[j])\n",
        "            z_in_chunk = np.array(z_in[j])\n",
        "            current_in_chunk = np.array(current_in[j])\n",
        "            #print(x_in_chunk.shape)            # (400,)\n",
        "            mfccs_x_chunk = librosa.feature.mfcc(x_in_chunk, sr=fs, n_mfcc=13)\n",
        "            mfccs_y_chunk = librosa.feature.mfcc(y_in_chunk, sr=fs, n_mfcc=13)\n",
        "            mfccs_z_chunk = librosa.feature.mfcc(z_in_chunk, sr=fs, n_mfcc=13)\n",
        "            mfccs_current_chunk = librosa.feature.mfcc(current_in_chunk, sr=fs, n_mfcc=13)\n",
        "            #print(x_in_chunk.shape, mfccs_x_chunk.shape)         # (13,1)\n",
        " \n",
        "            # class\n",
        "            class_in_chunk = class_in[0]\n",
        " \n",
        "            # features merge\n",
        "            features_chunk = np.concatenate((mfccs_x_chunk,mfccs_y_chunk,mfccs_y_chunk,mfccs_current_chunk),axis=0)\n",
        "        \n",
        "            #features + class\n",
        "            features_chunk = pd.DataFrame(features_chunk).T\n",
        "            features_chunk['class']=class_in_chunk\n",
        "            #features_chunk['class']=class_location\n",
        "        \n",
        "            #print(features_chunk.head())\n",
        "            features_all = pd.concat([features_all,features_chunk],axis=0)\n",
        "\n",
        "#features_all_augment = pd.concat([features_all_augment,features_all],axis=0)        "
      ],
      "metadata": {
        "id": "AGvpcFanoMT4"
      },
      "execution_count": null,
      "outputs": []
    },
    {
      "cell_type": "code",
      "source": [
        "\"\"\"전처리 후 데이터 구조\"\"\"\n",
        "features_all.shape"
      ],
      "metadata": {
        "id": "9x-QBHChoMQ3"
      },
      "execution_count": null,
      "outputs": []
    },
    {
      "cell_type": "code",
      "source": [
        "\n",
        "features_all.head()   "
      ],
      "metadata": {
        "id": "7Ph9gJKNoMOX"
      },
      "execution_count": null,
      "outputs": []
    },
    {
      "cell_type": "code",
      "source": [
        "features_all.tail()   "
      ],
      "metadata": {
        "id": "_3Nk6wfAoMLn"
      },
      "execution_count": null,
      "outputs": []
    },
    {
      "cell_type": "code",
      "source": [
        "features_all.describe()"
      ],
      "metadata": {
        "id": "cB52HfSXoMIu"
      },
      "execution_count": null,
      "outputs": []
    },
    {
      "cell_type": "code",
      "source": [
        "\"\"\"x,y 정의\"\"\"\n",
        "x=features_all.drop('class',axis=1)\n",
        "y=features_all['class']\n",
        "\n",
        "\"\"\"class를 숫자로 변환 for pytorch\"\"\"\n",
        "\n",
        "y_number=[]\n",
        "for i in y:\n",
        "    y_tmp=(np.where(i == class_list))[0][0]    # [0][0] 추가해서 데이터만 추출\n",
        "    #print (i,y_tmp)\n",
        "    y_number.append(y_tmp)\n",
        "    #print(i,y_tmp[0][0])\n",
        "\n",
        "y=np.array(y_number).reshape(-1,)\n",
        "y=pd.Series(y)"
      ],
      "metadata": {
        "id": "ZNLeicUwoMF-"
      },
      "execution_count": null,
      "outputs": []
    },
    {
      "cell_type": "code",
      "source": [
        "# 데이터 shape이 (AAA,00) (000,)\n",
        "print(x.shape,y.shape)\n"
      ],
      "metadata": {
        "id": "tekHb7rkoMDa"
      },
      "execution_count": null,
      "outputs": []
    },
    {
      "cell_type": "code",
      "source": [
        "display(x.head())\n",
        "display(y.head())"
      ],
      "metadata": {
        "id": "tad6_sd-oggO"
      },
      "execution_count": null,
      "outputs": []
    },
    {
      "cell_type": "code",
      "source": [
        "# train, test\n",
        "train_x, test_x, train_y, test_y = train_test_split(x, y, stratify=y, test_size=0.2)\n",
        "# train, validation\n",
        "train_x, valid_x, train_y, valid_y = train_test_split(train_x, train_y, stratify=train_y, test_size=0.2)\n",
        "print(f\"학습 데이터셋 크기 : {train_x.shape}, 검증 데이터셋 크기 : {valid_x.shape}, 테스트 데이터셋 크기 : {test_x.shape}\")"
      ],
      "metadata": {
        "id": "4DR1R4ktogdS"
      },
      "execution_count": null,
      "outputs": []
    },
    {
      "cell_type": "code",
      "source": [
        "plt.figure(figsize=(10, 6))\n",
        "\n",
        "plt.subplot(311)\n",
        "plt.hist(train_y, bins=np.arange(0, 16, 0.5))\n",
        "plt.ylim(0, 150)\n",
        "plt.xticks(np.arange(0 , 11, 1))\n",
        "plt.title('Training Data')\n",
        "\n",
        "plt.subplot(312)\n",
        "plt.hist(valid_y, bins=np.arange(0, 16, 0.5))\n",
        "plt.ylim(0, 150)\n",
        "plt.xticks(np.arange(0 , 11, 1))\n",
        "plt.title('Validation Data')\n",
        "\n",
        "plt.subplot(313)\n",
        "plt.hist(test_y, bins=np.arange(0, 16, 0.5))\n",
        "plt.ylim(0, 150)\n",
        "plt.xticks(np.arange(0 , 11, 1))\n",
        "plt.title('Testing Data')\n",
        "plt.show()"
      ],
      "metadata": {
        "id": "pkp26K9-ogah"
      },
      "execution_count": null,
      "outputs": []
    },
    {
      "cell_type": "code",
      "source": [
        "\"\"\"분류기 모형 설정\"\"\"\n",
        "\n",
        "\"\"\"DNN\"\"\"\n",
        "'''Neural Network을 위한 딥러닝 모듈'''\n",
        "import torch             # 딥러닝 모듈이고, 로컬에서는  설치필요\n",
        "import copy\n",
        "device = 'cuda:0' if torch.cuda.is_available() else 'cpu'\n",
        "\n",
        "''' 결과 평가용 모듈 '''\n",
        "from sklearn.metrics import accuracy_score, confusion_matrix\n",
        "    \n",
        "''' 기타 optional'''\n",
        "import warnings, itertools\n",
        "warnings.filterwarnings(action='ignore')\n",
        "\n",
        "\n",
        "#https://colab.research.google.com/drive/1kt8Zmy-qiE4mhcgBrFUAzdBmVh9UVyGK#scrollTo=1ed897f1\n",
        "train_x_torch = torch.FloatTensor(train_x.values) # torch.FloatTensor(numpy)\n",
        "train_y_torch = torch.LongTensor(train_y.values) # torch.LongTensor(numpy)\n",
        "trainDataset = torch.utils.data.TensorDataset(train_x_torch, train_y_torch)\n",
        "trainLoader = torch.utils.data.DataLoader(dataset = trainDataset,\n",
        "                                         batch_size = 100,\n",
        "                                         shuffle = True)\n",
        "\n",
        "# 검증에는 shuffle 하지 않음.  w 찾는게 아님.\n",
        "valid_x_torch = torch.FloatTensor(valid_x.values) # torch.FloatTensor(numpy)\n",
        "valid_y_torch = torch.LongTensor(valid_y.values) # torch.LongTensor(numpy)\n",
        "validDataset = torch.utils.data.TensorDataset(valid_x_torch, valid_y_torch)\n",
        "validLoader = torch.utils.data.DataLoader(dataset = validDataset,\n",
        "                                        batch_size = 100,\n",
        "                                        shuffle = False)\n",
        "\n",
        "test_x_torch = torch.FloatTensor(test_x.values) # torch.FloatTensor(numpy)\n",
        "test_y_torch = torch.LongTensor(test_y.values) # torch.LongTensor(numpy)\n",
        "testDataset = torch.utils.data.TensorDataset(test_x_torch, test_y_torch)\n",
        "testLoader = torch.utils.data.DataLoader(dataset = testDataset,\n",
        "                                        batch_size = 100,\n",
        "                                        shuffle = False)"
      ],
      "metadata": {
        "id": "2c1OsppZogXj"
      },
      "execution_count": null,
      "outputs": []
    },
    {
      "cell_type": "code",
      "source": [
        "# 모형\n",
        "class DNNClassifier(torch.nn.Module):\n",
        "    def __init__(self, input_dim, hidden_dim1, hidden_dim2, hidden_dim3, output_dim):    # 모델 구조 정의\n",
        "        # input_dim = 784, output_dim = 10 (클래스 개수)\n",
        "        super().__init__()\n",
        "        \n",
        "        ''' 모델 구조 만들기'''\n",
        "        # CNN, RNN, LSTM등은 linear가 아니다.\n",
        "        self.linear1 = torch.nn.Linear(input_dim, hidden_dim1) # input_dim(784) -> hidden_dim1(500)\n",
        "        self.linear2 = torch.nn.Linear(hidden_dim1, hidden_dim2) # hidden_dim1(500) -> hidden_dim2(300)\n",
        "        self.linear3 = torch.nn.Linear(hidden_dim2, hidden_dim3) # hidden_dim2(300) -> hidden_dim3(100)\n",
        "        self.linear4 = torch.nn.Linear(hidden_dim3, output_dim) # hidden_dim3(100) -> output_dim(10)\n",
        "        \n",
        "        self.relu = torch.nn.ReLU() # Relu activation function\n",
        "        self.dropout = torch.nn.Dropout(p=0.5)     # p = 0.5는 확률개념으로 50% 는 w 를 업데이트 하지 않음. overfit 방지\n",
        "        \n",
        "    def forward(self, x):                                                                # 순서, Sequence 정의\n",
        "        \n",
        "        ''' 짜여진 모델에 설명 변수 데이터 x를 입력할 때 진행할 순서 설정'''\n",
        "\n",
        "        x = self.linear1(x) \n",
        "        x = self.relu(x) \n",
        "        x = self.linear2(x)\n",
        "        x = self.relu(x)\n",
        "        x = self.dropout(x)     # 반절만 활성화\n",
        "        x = self.linear3(x)\n",
        "        x = self.relu(x)\n",
        "        output = self.linear4(x) \n",
        "        \n",
        "        return output"
      ],
      "metadata": {
        "id": "mBk-6Ci1ogUG"
      },
      "execution_count": null,
      "outputs": []
    },
    {
      "cell_type": "code",
      "source": [
        "#모델 및 비용함수, Solver 설정\n",
        "train_x.shape[1]"
      ],
      "metadata": {
        "id": "BFr_aW-5onq5"
      },
      "execution_count": null,
      "outputs": []
    },
    {
      "cell_type": "code",
      "source": [
        "#\n",
        "clf_DNN = DNNClassifier(train_x.shape[1], 500, 300, 100, 16) # 16=class 개수"
      ],
      "metadata": {
        "id": "e64GWQ_Ionn2"
      },
      "execution_count": null,
      "outputs": []
    },
    {
      "cell_type": "code",
      "source": [
        "# 비용함수 정의\n",
        "criterion = torch.nn.CrossEntropyLoss()\n",
        "\n",
        "# Solver 설정\n",
        "# 경사하강법의 종류 정의 (adam)\n",
        "solver = torch.optim.Adam(clf_DNN.parameters(), lr = 0.001)"
      ],
      "metadata": {
        "id": "QKgRS3eyonlb"
      },
      "execution_count": null,
      "outputs": []
    },
    {
      "cell_type": "code",
      "source": [
        "num_epochs = 100\n",
        "\n",
        "print(\"Start Training !\")\n",
        "print('-'*50)\n",
        "\n",
        "# 빈 공간 할당\n",
        "train_loss_total = []\n",
        "valid_loss_total = []\n",
        "best_loss = np.inf\n",
        "\n",
        "\n",
        "# \n",
        "for epoch in range(num_epochs):\n",
        "    #초기값  \n",
        "    train_loss = 0\n",
        "    valid_loss = 0\n",
        "    \n",
        "    ''' Training '''\n",
        "    clf_DNN.train()\n",
        "    for x_data, y_data in trainLoader:          # trainLoader로 구성해놨던 데이터 가져옴.\n",
        "        \n",
        "        # 정확한 학습을 위하여 모든 기울기 값을 0으로 설정\n",
        "        solver.zero_grad()\n",
        "        \n",
        "        y_pred = clf_DNN(x_data)\n",
        "        \n",
        "        # 비용함수를 활용하여 오차 계산\n",
        "        loss = criterion(y_pred, y_data)\n",
        "        \n",
        "        # 계산된 오차를 기반으로, 오차를 줄일 수 있는 방향으로 w값 업데이트  (즉, backpropagation !)\n",
        "        loss.backward()\n",
        "        solver.step() # forward evaluation, backward propagation, update를 모두 포함하는 step\n",
        "\n",
        "        train_loss += loss.item()\n",
        "    \n",
        "    ''' Validation '''\n",
        "    clf_DNN.eval()\n",
        "    for eval_x_data, eval_y_data in validLoader:\n",
        "        eval_y_pred = clf_DNN(eval_x_data)\n",
        "        valid_loss += criterion(eval_y_pred, eval_y_data).item() # 딕셔너리에 있는 키와 값들의 쌍을 얻어 저장\n",
        "\n",
        "\n",
        "\n",
        "    \"\"\" 결과출력\"\"\"    \n",
        "    print('[%d epoch] Train loss : %.3f, Valid loss : %.3f' % (epoch+1, train_loss/len(trainLoader), valid_loss/len(validLoader)))\n",
        "    \n",
        "    if valid_loss/len(validLoader) < best_loss:\n",
        "        # 로스값 업데이트\n",
        "        best_loss = valid_loss/len(validLoader)        # validation loss 값이 점점줄다가 다시커지게 되므로 가장적었을때의 epoch와 파라미터 w를 기억해둔다.\n",
        "        # 최적의 epoch 수와 모델 저장하기\n",
        "        best_epoch = epoch\n",
        "        best_model = clf_DNN.state_dict()\n",
        "    \n",
        "    train_loss_total.append(train_loss/len(trainLoader))\n",
        "    valid_loss_total.append(valid_loss/len(validLoader))\n",
        "    \n",
        "print('-'*50)\n",
        "print(\"Finished Training ! Best Epoch is epoch %d.\" % (best_epoch+1))"
      ],
      "metadata": {
        "id": "NkTZPGdWoni8"
      },
      "execution_count": null,
      "outputs": []
    },
    {
      "cell_type": "code",
      "source": [
        "# learning Curve\n",
        "plt.figure(figsize=(15,7))\n",
        "\n",
        "# 학습 및 검증 로스 변동 관찰하기\n",
        "plt.plot(train_loss_total,label='Train Loss')\n",
        "plt.plot(valid_loss_total, label='Validation Loss')\n",
        "# 최적의 모델이 저장된 곳 표시\n",
        "plt.axvline(x = best_epoch, color='red', label='Best Epoch')    # axv 는 수직선 그리기\n",
        "plt.legend(fontsize=15)\n",
        "plt.title(\"Learning Curve of trained DNN Classifier\", fontsize=18)\n",
        "plt.show()\n",
        "\n",
        "# 빨간선왼쪽, underfit, 오르쪽은 overfit\n",
        "# 주관적으로 약간 오른쪽으로 볼수 있음."
      ],
      "metadata": {
        "id": "pJAviy1BongS"
      },
      "execution_count": null,
      "outputs": []
    },
    {
      "cell_type": "code",
      "source": [
        "\"\"\"1차 평가 /w test_set\"\"\"\n",
        "# DNN 성능평가\n",
        "# 최적의 모델 불러오기\n",
        "best_clf_DNN = DNNClassifier(train_x.shape[1], 500, 300, 100, 16)\n",
        "best_clf_DNN.load_state_dict(best_model)"
      ],
      "metadata": {
        "id": "_rwGeZoCondc"
      },
      "execution_count": null,
      "outputs": []
    },
    {
      "cell_type": "code",
      "source": [
        "# model을 evaluation 모드로 변경\n",
        "best_clf_DNN.eval()"
      ],
      "metadata": {
        "id": "F7pj-lZMoMAr"
      },
      "execution_count": null,
      "outputs": []
    },
    {
      "cell_type": "code",
      "source": [
        "# clf_mlp(data) == data -> logit -> probability=softmax(logit)\n",
        "y_train_prob = best_clf_DNN(train_x_torch).softmax(dim=1)\n",
        "\n",
        "# 가장 큰 확률값에 해당하는 범주를 예측 범주로 저장\n",
        "y_train_pred = y_train_prob.max(1)[1].numpy()"
      ],
      "metadata": {
        "id": "kFLnW7WRoL9l"
      },
      "execution_count": null,
      "outputs": []
    },
    {
      "cell_type": "code",
      "source": [
        "y_train_prob[0].detach().numpy().tolist()"
      ],
      "metadata": {
        "id": "W2ebrj8IozHt"
      },
      "execution_count": null,
      "outputs": []
    },
    {
      "cell_type": "code",
      "source": [
        "y_train_pred[0]"
      ],
      "metadata": {
        "id": "lGZdEnLIozFK"
      },
      "execution_count": null,
      "outputs": []
    },
    {
      "cell_type": "code",
      "source": [
        "train_y.head(1)"
      ],
      "metadata": {
        "id": "tPMP1K8BozCp"
      },
      "execution_count": null,
      "outputs": []
    },
    {
      "cell_type": "code",
      "source": [
        "train_accuracy = accuracy_score(y_pred=y_train_pred,y_true=train_y)\n",
        "\n",
        "print(f\"훈련 데이터셋 정확도: {train_accuracy:.3f}\")"
      ],
      "metadata": {
        "id": "o-W4yjGTozAM"
      },
      "execution_count": null,
      "outputs": []
    },
    {
      "cell_type": "code",
      "source": [
        "cm_train = confusion_matrix(y_true=train_y, y_pred=y_train_pred)\n",
        "plt.figure(figsize=(8, 8))\n",
        "sns.heatmap(data=cm_train, annot=True, fmt='d', annot_kws={'size': 18}, cmap='Blues')\n",
        "plt.xlabel('Predicted')\n",
        "plt.ylabel('True')\n",
        "plt.show()"
      ],
      "metadata": {
        "id": "zngNfLWZoy94"
      },
      "execution_count": null,
      "outputs": []
    },
    {
      "cell_type": "code",
      "source": [
        "\"\"\"학습된 DNN Classifier 결과 확인 및 성능 평가 : Validation Data\"\"\"\n",
        "y_valid_prob = best_clf_DNN(valid_x_torch).softmax(dim=1)\n",
        "y_valid_pred = y_valid_prob.max(1)[1].numpy()\n",
        "valid_accuracy = accuracy_score(y_pred=y_valid_pred,y_true=valid_y)\n",
        "\n",
        "print(f\"검증용 데이터셋 정확도: {valid_accuracy:.3f}\")\n"
      ],
      "metadata": {
        "id": "NYl1iHP3oy7J"
      },
      "execution_count": null,
      "outputs": []
    },
    {
      "cell_type": "code",
      "source": [
        "cm_valid = confusion_matrix(y_true=valid_y, y_pred=y_valid_pred)\n",
        "plt.figure(figsize=(8, 8))\n",
        "sns.heatmap(data=cm_valid, annot=True, fmt='d', annot_kws={'size': 18}, cmap='Blues')\n",
        "plt.xlabel('Predicted')\n",
        "plt.ylabel('True')\n",
        "plt.show()"
      ],
      "metadata": {
        "id": "XU8bRqusoy4w"
      },
      "execution_count": null,
      "outputs": []
    },
    {
      "cell_type": "code",
      "source": [
        "\"\"\"성능평가 : Testing Data\"\"\"\n",
        "y_test_prob = best_clf_DNN(test_x_torch).softmax(dim=1)\n",
        "y_test_pred = y_test_prob.max(1)[1].numpy()\n",
        "test_accuracy = accuracy_score(y_pred=y_test_pred,y_true=test_y)\n",
        "\n",
        "print(f\"테스트용 데이터셋 정확도: {test_accuracy:.3f}\")"
      ],
      "metadata": {
        "id": "nu_GghpDoy2P"
      },
      "execution_count": null,
      "outputs": []
    },
    {
      "cell_type": "code",
      "source": [
        "cm_test = confusion_matrix(y_true=test_y, y_pred=y_test_pred)\n",
        "plt.figure(figsize=(8, 8))\n",
        "sns.heatmap(data=cm_test, annot=True, fmt='d', annot_kws={'size': 18}, cmap='Blues')\n",
        "plt.xlabel('Predicted')\n",
        "plt.ylabel('True')\n",
        "plt.show()"
      ],
      "metadata": {
        "id": "bUzkSS-No8jX"
      },
      "execution_count": null,
      "outputs": []
    },
    {
      "cell_type": "code",
      "source": [
        ""
      ],
      "metadata": {
        "id": "OsPYaj4xo8gh"
      },
      "execution_count": null,
      "outputs": []
    },
    {
      "cell_type": "code",
      "source": [
        ""
      ],
      "metadata": {
        "id": "413QBtFzo8d7"
      },
      "execution_count": null,
      "outputs": []
    },
    {
      "cell_type": "code",
      "source": [
        ""
      ],
      "metadata": {
        "id": "FKGJilG4o8bW"
      },
      "execution_count": null,
      "outputs": []
    },
    {
      "cell_type": "code",
      "source": [
        ""
      ],
      "metadata": {
        "id": "L7rNWC_soyzZ"
      },
      "execution_count": null,
      "outputs": []
    },
    {
      "cell_type": "code",
      "source": [
        "\"\"\"전처리 모듈\"\"\"\n",
        "\"\"\"library\"\"\"\n",
        "import librosa\n",
        "%matplotlib inline\n",
        "import matplotlib.pyplot as plt\n",
        "import librosa.display\n",
        "\n",
        "\"\"\"변수정의\"\"\"\n",
        "fs=100\n",
        "no_of_data=400\n",
        "class_list=np.array(['idle', 'suit_1','suit_2','suit_3','suit_4','suit_5','shirt_1','shirt_2','shirt_3',\n",
        "            'shirt_4','shirt_5','coat_1','coat_2','coat_3','coat_4','coat_5'])\n",
        "\n",
        "features_all=pd.DataFrame()\n",
        "features_all_augment=pd.DataFrame()\n",
        "\n",
        "\"\"\"함수정의\"\"\"\n",
        "# list 들어오면, n개씩 쪼개서 return   https://jsikim1.tistory.com/141\n",
        "def list_chunk(lst,n):\n",
        "    return [lst[i:i+n] for i in range(0,len(lst),n)], len(lst)//n      #  // 몫\n"
      ],
      "metadata": {
        "id": "40Trvio2oBkL"
      },
      "execution_count": null,
      "outputs": []
    },
    {
      "cell_type": "code",
      "source": [
        ""
      ],
      "metadata": {
        "id": "3cGqF9mFoBhC"
      },
      "execution_count": null,
      "outputs": []
    },
    {
      "cell_type": "code",
      "source": [
        ""
      ],
      "metadata": {
        "id": "paRVc3nXoBdb"
      },
      "execution_count": null,
      "outputs": []
    },
    {
      "cell_type": "code",
      "source": [
        ""
      ],
      "metadata": {
        "id": "9nBEguwpoBW2"
      },
      "execution_count": null,
      "outputs": []
    },
    {
      "cell_type": "code",
      "source": [
        "\"\"\"전처리 / 특징 추출 \"\"\"\n",
        "\"\"\"MFCC\"\"\"\n",
        "#Image('./image/image_09.jpg', width=400, height=100)   # https://blog.naver.com/PostView.nhn?isHttpsRedirect=true&blogId=sooftware&logNo=221661644808"
      ],
      "metadata": {
        "id": "rZmRdjRoy58U"
      },
      "execution_count": null,
      "outputs": []
    },
    {
      "cell_type": "code",
      "source": [
        "\"\"\"전처리 모듈\"\"\"\n",
        "\"\"\"MFCC\"\"\"\n",
        "import librosa\n",
        "%matplotlib inline\n",
        "import matplotlib.pyplot as plt\n",
        "import librosa.display\n",
        "\n",
        "\"\"\"변수\"\"\"\n",
        "fs=100\n",
        "no_of_data=400\n",
        "class_list=['idle', 'suit_1','suit_2','suit_3','suit_4','suit_5','shirt_1','shirt_2','shirt_3',\n",
        "            'shirt_4','shirt_5','coat_1','coat_2','coat_3','coat_4','coat_5']\n",
        "\n",
        "features_all=pd.DataFrame()\n",
        "\n",
        "\"\"\"함수\"\"\"\n",
        "# list 들어오면, n개씩 쪼개서 return   https://jsikim1.tistory.com/141\n",
        "def list_chunk(lst,n):\n",
        "    return [lst[i:i+n] for i in range(0,len(lst),n)], len(lst)//n      #  // 몫\n",
        "\n",
        "\n",
        "# 각 class별로 n개씩 묶어서(chunk) -->  mfcc -->  merge 함.\n",
        "\n",
        "# chunk\n",
        "for i in class_list:       # class별로 'idle', 'suit1', ....\n",
        "    idx_class = df.CLASS == i\n",
        "    x_in, count = list_chunk(x['accx'][idx_class],no_of_data)   # x \n",
        "    y_in, count = list_chunk(x['accy'][idx_class],no_of_data)   # y \n",
        "    z_in, count = list_chunk(x['accz'][idx_class],no_of_data)   # z \n",
        "    current_in, count = list_chunk(x['current'][idx_class],no_of_data)   # current \n",
        "    class_in,count = list_chunk(y[idx_class],no_of_data)   # label\n",
        "    print(\"class:\", i, \"    chunk개수:\",count)  # class별 chunked 개수 확인\n",
        "    \n",
        "# mfcc & merge\n",
        "    for j in range(0,count-1):\n",
        "        # mfcc\n",
        "        x_in_chunk = np.array(x_in[j])\n",
        "        y_in_chunk = np.array(y_in[j])\n",
        "        z_in_chunk = np.array(z_in[j])\n",
        "        current_in_chunk = np.array(current_in[j])\n",
        "        #print(x_in_chunk.shape)            # (400,)\n",
        "        mfccs_x_chunk = librosa.feature.mfcc(x_in_chunk, sr=fs, n_mfcc=13)\n",
        "        mfccs_y_chunk = librosa.feature.mfcc(y_in_chunk, sr=fs, n_mfcc=13)\n",
        "        mfccs_z_chunk = librosa.feature.mfcc(z_in_chunk, sr=fs, n_mfcc=13)\n",
        "        mfccs_current_chunk = librosa.feature.mfcc(current_in_chunk, sr=fs, n_mfcc=13)\n",
        "        #print(mfccs_x_chunk.shape)         # (13,1)\n",
        "        class_in_chunk = class_in[0]\n",
        "        #print(class_in_chunk)\n",
        "\n",
        "        # merge\n",
        "        features_chunk = np.concatenate((mfccs_x_chunk,mfccs_y_chunk,mfccs_y_chunk,mfccs_current_chunk),axis=0)\n",
        "        #print(features_chunk)\n",
        "        features_chunk = pd.DataFrame(features_chunk).T\n",
        "        features_chunk['class']=class_in_chunk\n",
        "        #print(features_chunk.head())\n",
        "        features_all = pd.concat([features_all,features_chunk],axis=0)\n",
        "        #print(features_chunk.head())"
      ],
      "metadata": {
        "id": "b5VmEqOIy5-9"
      },
      "execution_count": null,
      "outputs": []
    },
    {
      "cell_type": "code",
      "source": [
        "# x = mfcc(x,y,z,current) 13 * 4 = 52\n",
        "# y = label\n",
        "features_all.head()"
      ],
      "metadata": {
        "id": "ZRcJ3LY4y6B4"
      },
      "execution_count": null,
      "outputs": []
    },
    {
      "cell_type": "code",
      "source": [
        "features_all.tail()   "
      ],
      "metadata": {
        "id": "AFHMN12cyePe"
      },
      "execution_count": null,
      "outputs": []
    },
    {
      "cell_type": "code",
      "source": [
        "features_all.describe()"
      ],
      "metadata": {
        "id": "hkQEi6kjyeaf"
      },
      "execution_count": null,
      "outputs": []
    },
    {
      "cell_type": "code",
      "source": [
        "\"\"\"분류기 모형 설정\"\"\"\n"
      ],
      "metadata": {
        "id": "fxJyEUJiyiaz"
      },
      "execution_count": null,
      "outputs": []
    },
    {
      "cell_type": "code",
      "source": [
        "\"\"\"1차 평가 /w test_set\"\"\"\n"
      ],
      "metadata": {
        "id": "aUrKgEjXyidu"
      },
      "execution_count": null,
      "outputs": []
    },
    {
      "cell_type": "code",
      "source": [
        ""
      ],
      "metadata": {
        "id": "SqU08F4Wyigk"
      },
      "execution_count": null,
      "outputs": []
    }
  ]
}